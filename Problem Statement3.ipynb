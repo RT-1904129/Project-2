{
 "cells": [
  {
   "cell_type": "markdown",
   "metadata": {},
   "source": [
    "Exploratory data analysis"
   ]
  },
  {
   "cell_type": "markdown",
   "metadata": {},
   "source": [
    "for training purpose we will use a data set \"all_data.csv\" "
   ]
  },
  {
   "cell_type": "code",
   "execution_count": 87,
   "metadata": {},
   "outputs": [
    {
     "data": {
      "text/plain": [
       "(4846, 3)"
      ]
     },
     "execution_count": 87,
     "metadata": {},
     "output_type": "execute_result"
    }
   ],
   "source": [
    "import pandas as pd\n",
    "columns=[\"impression_type\",\"News\"]\n",
    "a=pd.read_csv(\"all_data.csv\",header=None,names=columns,encoding='latin-1')\n",
    "a[\"news_channel\"]=\"econonices Times\"\n",
    "old_size=a.shape\n",
    "old_size"
   ]
  },
  {
   "cell_type": "code",
   "execution_count": 88,
   "metadata": {},
   "outputs": [
    {
     "name": "stdout",
     "output_type": "stream",
     "text": [
      "<class 'pandas.core.frame.DataFrame'>\n",
      "RangeIndex: 4846 entries, 0 to 4845\n",
      "Data columns (total 3 columns):\n",
      " #   Column           Non-Null Count  Dtype \n",
      "---  ------           --------------  ----- \n",
      " 0   impression_type  4846 non-null   object\n",
      " 1   News             4846 non-null   object\n",
      " 2   news_channel     4846 non-null   object\n",
      "dtypes: object(3)\n",
      "memory usage: 113.7+ KB\n"
     ]
    }
   ],
   "source": [
    "a.info()"
   ]
  },
  {
   "cell_type": "code",
   "execution_count": 89,
   "metadata": {},
   "outputs": [
    {
     "data": {
      "text/html": [
       "<div>\n",
       "<style scoped>\n",
       "    .dataframe tbody tr th:only-of-type {\n",
       "        vertical-align: middle;\n",
       "    }\n",
       "\n",
       "    .dataframe tbody tr th {\n",
       "        vertical-align: top;\n",
       "    }\n",
       "\n",
       "    .dataframe thead th {\n",
       "        text-align: right;\n",
       "    }\n",
       "</style>\n",
       "<table border=\"1\" class=\"dataframe\">\n",
       "  <thead>\n",
       "    <tr style=\"text-align: right;\">\n",
       "      <th></th>\n",
       "      <th>impression_type</th>\n",
       "      <th>News</th>\n",
       "      <th>news_channel</th>\n",
       "    </tr>\n",
       "  </thead>\n",
       "  <tbody>\n",
       "    <tr>\n",
       "      <th>0</th>\n",
       "      <td>neutral</td>\n",
       "      <td>According to Gran , the company has no plans t...</td>\n",
       "      <td>econonices Times</td>\n",
       "    </tr>\n",
       "    <tr>\n",
       "      <th>1</th>\n",
       "      <td>neutral</td>\n",
       "      <td>Technopolis plans to develop in stages an area...</td>\n",
       "      <td>econonices Times</td>\n",
       "    </tr>\n",
       "    <tr>\n",
       "      <th>2</th>\n",
       "      <td>negative</td>\n",
       "      <td>The international electronic industry company ...</td>\n",
       "      <td>econonices Times</td>\n",
       "    </tr>\n",
       "    <tr>\n",
       "      <th>3</th>\n",
       "      <td>positive</td>\n",
       "      <td>With the new production plant the company woul...</td>\n",
       "      <td>econonices Times</td>\n",
       "    </tr>\n",
       "    <tr>\n",
       "      <th>4</th>\n",
       "      <td>positive</td>\n",
       "      <td>According to the company 's updated strategy f...</td>\n",
       "      <td>econonices Times</td>\n",
       "    </tr>\n",
       "  </tbody>\n",
       "</table>\n",
       "</div>"
      ],
      "text/plain": [
       "  impression_type                                               News  \\\n",
       "0         neutral  According to Gran , the company has no plans t...   \n",
       "1         neutral  Technopolis plans to develop in stages an area...   \n",
       "2        negative  The international electronic industry company ...   \n",
       "3        positive  With the new production plant the company woul...   \n",
       "4        positive  According to the company 's updated strategy f...   \n",
       "\n",
       "       news_channel  \n",
       "0  econonices Times  \n",
       "1  econonices Times  \n",
       "2  econonices Times  \n",
       "3  econonices Times  \n",
       "4  econonices Times  "
      ]
     },
     "execution_count": 89,
     "metadata": {},
     "output_type": "execute_result"
    }
   ],
   "source": [
    "a.head()"
   ]
  },
  {
   "cell_type": "markdown",
   "metadata": {},
   "source": [
    "here we will do scraping three news channel article on data 29 october 2020 these news channel are \"hindustantimes\",\"deccanchronicle\",\"timesofindia\" "
   ]
  },
  {
   "cell_type": "code",
   "execution_count": 90,
   "metadata": {},
   "outputs": [
    {
     "name": "stderr",
     "output_type": "stream",
     "text": [
      "C:\\Users\\Asus\\anaconda3\\lib\\site-packages\\dateutil\\parser\\_parser.py:1218: UnknownTimezoneWarning: tzname IST identified but not understood.  Pass `tzinfos` argument in order to correctly return a timezone-aware datetime.  In a future version, this will raise an exception.\n",
      "  category=UnknownTimezoneWarning)\n"
     ]
    }
   ],
   "source": [
    "from newspaper import Article \n",
    "\n",
    "Deccan_29_result =[]\n",
    "Hindustan_29_result =[]\n",
    "TOI_29_result = []\n",
    "\n",
    "Hindustan_29 =[\"https://www.hindustantimes.com/cricket/ipl-2020-kl-rahul-reacts-to-being-named-india-s-limited-overs-vice-captain-for-australia-tour/story-GpQpSx6sgSmoE2rNdIZyuI.html\",\"https://www.hindustantimes.com/columns/the-taste-with-vir-nice-church-attack-it-s-stupid-to-say-the-terror-attack-in-france-was-not-motivated-by-religion/story-5HgjnfUiv7xLvM3ZPIMEnM.html\",\"https://www.hindustantimes.com/analysis/nalayak-gadkari-diagnosed-bureaucratic-malaise-modi-must-inject-the-cure-analysis/story-FqVFVVZQVU4KRSVjYYfN0N.html\",\"https://www.hindustantimes.com/world-news/if-joe-biden-wins-presidential-election-what-would-us-climate-change-pledge-look-like/story-X8DpoenEUhEAYkqOOQSp5M.html\",\"https://www.hindustantimes.com/india-news/shouldn-t-try-to-play-victim-india-roasts-pakistan-for-objecting-to-indo-us-statement/story-M2lbNQ30uxwqI7ENNvhzBM.html\",\"https://www.hindustantimes.com/india-news/india-stands-with-france-in-fight-against-terrorism-pm-modi-condemns-nice-knife-attack/story-QOcfASpJGVHvr6e9n7jC1H.html\",\"https://www.hindustantimes.com/india-news/officials-who-embarrassed-govt-with-rti-response-on-aarogya-setu-face-action/story-L3i7wkvkHgiDGRKfg9qxuK.html\",\"https://www.hindustantimes.com/world-news/french-police-2-dead-in-knife-attack-near-church-in-nice/story-Y2O7MNh7tbzudspuFFzzoI.html\",\"https://www.hindustantimes.com/india-news/govt-revises-bidding-parameters-for-air-india-s-divestment-to-ask-for-bids-at-enterprise-value/story-ebbhEHIAq38zcvWrROa6BN.html\",\"https://www.hindustantimes.com/india-news/what-mike-pompeo-s-attack-on-china-tells-us-about-india-s-new-approach/story-oKCqwFrys5sm4ekXIJ3RMK.html\"]\n",
    "\n",
    "Deccan_29 = [\"https://www.deccanchronicle.com/entertainment/tollywood/291020/kajal-weds-gautham-in-mumbai-reception-likely-for-tollywood-celebs-in.html\",\"https://www.deccanchronicle.com/nation/in-other-news/291020/six-teenagers-drown-trying-to-save-one-another-in-west-godavari.html\",\"https://www.deccanchronicle.com/nation/in-other-news/291020/complaints-galore-on-mismanagement-of-hyderabad-flood-relief.html\",\"https://www.deccanchronicle.com/world/america/291020/trump-admin-proposes-to-scrap-computerised-lottery-system-to-select-h.html\",\"https://www.deccanchronicle.com/nation/politics/291020/andhra-pradesh-cites-covid-opposes-elections-to-local-bodies.html\",\"https://www.deccanchronicle.com/nation/in-other-news/291020/indian-parliamentary-panel-slams-twitter-in-china-map-dispute.html\",\"https://www.deccanchronicle.com/nation/politics/291020/pm-modi-tears-into-rjds-tejashwi-says-hes-yuvraj-of-jungle-raj.html\",\"https://www.deccanchronicle.com/nation/current-affairs/291020/nia-conducts-raids-at-multiple-locations-including-offices-of-greate.html\",\"https://www.deccanchronicle.com/nation/current-affairs/291020/jaish-militants-killed-in-srinagar-firefight.html\",\"https://www.deccanchronicle.com/nation/politics/291020/mass-movement-against-new-farming-laws-in-telangana-soon-harish-rao.html\"]\n",
    "\n",
    "TOI_29 = [\"https://timesofindia.indiatimes.com/india/nia-conducts-searches-at-7-locations-in-jk-delhi-in-terror-funding-case/articleshow/78935265.cms\",\"https://timesofindia.indiatimes.com/india/coronavirus-india-live-updates-lockdown-extended-in-containment-zones-till-november-30/liveblog/78902091.cms\",\"https://timesofindia.indiatimes.com/world/europe/france-knife-attack-church-sexton-had-throat-slit-while-preparing-for-mass/articleshow/78935099.cms\",\"https://timesofindia.indiatimes.com/sports/cricket/ipl/top-stories/csk-vs-kkr-live-score-nitish-rana-solid-as-kolkata-knight-riders-eye-big-finish/articleshow/78932887.cms\",\"https://timesofindia.indiatimes.com/india/other-states-uts-have-laws-to-protect-their-land-why-not-jk-omar/articleshow/78935629.cms\",\"https://timesofindia.indiatimes.com/india/nia-conducts-searches-at-7-locations-in-jk-delhi-in-terror-funding-case/articleshow/78935265.cms\",\"https://timesofindia.indiatimes.com/india/pm-modi-condemns-knife-attack-in-france-says-india-stands-with-france/articleshow/78935126.cms\",\"https://timesofindia.indiatimes.com/india/strengthen-testing-tracking-treatment-strategy-during-festivals-centre-to-delhi-kerala-bengal/articleshow/78933409.cms\",\"https://timesofindia.indiatimes.com/india/country-that-gives-shelter-to-un-proscribed-terrorists-should-not-play-victim-india-to-pakistan/articleshow/78934516.cms\",\"https://timesofindia.indiatimes.com/india/nia-conducts-searches-at-4-locations-in-assam-and-maharashtra-in-delhi-gold-smuggling-case/articleshow/78934411.cms\"]\n",
    "\n",
    "#A new article from TOI \n",
    "\n",
    "for url in TOI_29:   \n",
    "    #For different language newspaper refer above table \n",
    "    toi_article = Article(url, language=\"en\") # en for English \n",
    "\n",
    "    #To download the article \n",
    "    toi_article.download() \n",
    "\n",
    "    #To parse the article \n",
    "    toi_article.parse() \n",
    "\n",
    "    #To perform natural language processing ie..nlp \n",
    "    toi_article.nlp() \n",
    "\n",
    "    #To extract summary \n",
    "    TOI_29_result.append(toi_article.summary)\n",
    " \n",
    "    \n",
    "\n",
    "for url in Hindustan_29:   \n",
    "    #For different language newspaper refer above table \n",
    "    toi_article = Article(url, language=\"en\") # en for English \n",
    "\n",
    "    #To download the article \n",
    "    toi_article.download() \n",
    "\n",
    "    #To parse the article \n",
    "    toi_article.parse() \n",
    "\n",
    "    #To perform natural language processing ie..nlp \n",
    "    toi_article.nlp() \n",
    "\n",
    "    #To extract summary \n",
    "    Hindustan_29_result.append(toi_article.summary)\n",
    "     \n",
    "\n",
    "        \n",
    "for url in Deccan_29:   \n",
    "    #For different language newspaper refer above table \n",
    "    toi_article = Article(url, language=\"en\") # en for English \n",
    "\n",
    "    #To download the article \n",
    "    toi_article.download() \n",
    "\n",
    "    #To parse the article \n",
    "    toi_article.parse() \n",
    "\n",
    "    #To perform natural language processing ie..nlp \n",
    "    toi_article.nlp() \n",
    "\n",
    "    #To extract summary \n",
    "    Deccan_29_result.append(toi_article.summary)\n"
   ]
  },
  {
   "cell_type": "code",
   "execution_count": 91,
   "metadata": {},
   "outputs": [
    {
     "data": {
      "text/html": [
       "<div>\n",
       "<style scoped>\n",
       "    .dataframe tbody tr th:only-of-type {\n",
       "        vertical-align: middle;\n",
       "    }\n",
       "\n",
       "    .dataframe tbody tr th {\n",
       "        vertical-align: top;\n",
       "    }\n",
       "\n",
       "    .dataframe thead th {\n",
       "        text-align: right;\n",
       "    }\n",
       "</style>\n",
       "<table border=\"1\" class=\"dataframe\">\n",
       "  <thead>\n",
       "    <tr style=\"text-align: right;\">\n",
       "      <th></th>\n",
       "      <th>Deccan Chronicle</th>\n",
       "      <th>Hindustan Times</th>\n",
       "      <th>Times of India</th>\n",
       "    </tr>\n",
       "  </thead>\n",
       "  <tbody>\n",
       "    <tr>\n",
       "      <th>0</th>\n",
       "      <td>Top Telugu actress Kajal Aggarwal, who is also...</td>\n",
       "      <td>cricketUpdated: Oct 29, 2020, 20:24 ISTIPL 202...</td>\n",
       "      <td>Representative imageNEW DELHI: The National In...</td>\n",
       "    </tr>\n",
       "    <tr>\n",
       "      <th>1</th>\n",
       "      <td>Six teenagers drowned in a rivulet trying to s...</td>\n",
       "      <td>The Taste with Vir: It’s stupid to say the ter...</td>\n",
       "      <td>Pilgrim season starts on Nov 16.\\nof pilgrims ...</td>\n",
       "    </tr>\n",
       "    <tr>\n",
       "      <th>2</th>\n",
       "      <td>Hyderabad: Flood victims complained of discrim...</td>\n",
       "      <td>Calling the NHAI bureaucracy “ nalayak, nikamm...</td>\n",
       "      <td>A woman kneels by a police car as she cries in...</td>\n",
       "    </tr>\n",
       "    <tr>\n",
       "      <th>3</th>\n",
       "      <td>According to the DHS, modifying the H-1B cap s...</td>\n",
       "      <td>If Joe Biden wins presidential election, what ...</td>\n",
       "      <td>Note - If Chennai Super Kings win today, Mumba...</td>\n",
       "    </tr>\n",
       "    <tr>\n",
       "      <th>4</th>\n",
       "      <td>Vijayawada Oct. 28 : The Andhra Pradesh govern...</td>\n",
       "      <td>New Delhi’s sharp comeback came after Islamaba...</td>\n",
       "      <td>SRINAGAR: National Conference leader Omar Abdu...</td>\n",
       "    </tr>\n",
       "  </tbody>\n",
       "</table>\n",
       "</div>"
      ],
      "text/plain": [
       "                                    Deccan Chronicle  \\\n",
       "0  Top Telugu actress Kajal Aggarwal, who is also...   \n",
       "1  Six teenagers drowned in a rivulet trying to s...   \n",
       "2  Hyderabad: Flood victims complained of discrim...   \n",
       "3  According to the DHS, modifying the H-1B cap s...   \n",
       "4  Vijayawada Oct. 28 : The Andhra Pradesh govern...   \n",
       "\n",
       "                                     Hindustan Times  \\\n",
       "0  cricketUpdated: Oct 29, 2020, 20:24 ISTIPL 202...   \n",
       "1  The Taste with Vir: It’s stupid to say the ter...   \n",
       "2  Calling the NHAI bureaucracy “ nalayak, nikamm...   \n",
       "3  If Joe Biden wins presidential election, what ...   \n",
       "4  New Delhi’s sharp comeback came after Islamaba...   \n",
       "\n",
       "                                      Times of India  \n",
       "0  Representative imageNEW DELHI: The National In...  \n",
       "1  Pilgrim season starts on Nov 16.\\nof pilgrims ...  \n",
       "2  A woman kneels by a police car as she cries in...  \n",
       "3  Note - If Chennai Super Kings win today, Mumba...  \n",
       "4  SRINAGAR: National Conference leader Omar Abdu...  "
      ]
     },
     "execution_count": 91,
     "metadata": {},
     "output_type": "execute_result"
    }
   ],
   "source": [
    "# importing pandas as pd  \n",
    "import pandas as pd  \n",
    "  \n",
    "# dictionary of lists  \n",
    "dict = {'Deccan Chronicle': Deccan_29_result, 'Hindustan Times':Hindustan_29_result, 'Times of India': TOI_29_result}  \n",
    "    \n",
    "df = pd.DataFrame(dict) \n",
    "    \n",
    "df.head() "
   ]
  },
  {
   "cell_type": "markdown",
   "metadata": {},
   "source": [
    "now we try to add this data into our previous dtat set so we can easily do here we are doing countervectorizer"
   ]
  },
  {
   "cell_type": "code",
   "execution_count": 92,
   "metadata": {},
   "outputs": [
    {
     "data": {
      "text/html": [
       "<div>\n",
       "<style scoped>\n",
       "    .dataframe tbody tr th:only-of-type {\n",
       "        vertical-align: middle;\n",
       "    }\n",
       "\n",
       "    .dataframe tbody tr th {\n",
       "        vertical-align: top;\n",
       "    }\n",
       "\n",
       "    .dataframe thead th {\n",
       "        text-align: right;\n",
       "    }\n",
       "</style>\n",
       "<table border=\"1\" class=\"dataframe\">\n",
       "  <thead>\n",
       "    <tr style=\"text-align: right;\">\n",
       "      <th></th>\n",
       "      <th>impression_type</th>\n",
       "      <th>News</th>\n",
       "      <th>news_channel</th>\n",
       "    </tr>\n",
       "  </thead>\n",
       "  <tbody>\n",
       "    <tr>\n",
       "      <th>0</th>\n",
       "      <td>neutral</td>\n",
       "      <td>According to Gran , the company has no plans t...</td>\n",
       "      <td>econonices Times</td>\n",
       "    </tr>\n",
       "    <tr>\n",
       "      <th>1</th>\n",
       "      <td>neutral</td>\n",
       "      <td>Technopolis plans to develop in stages an area...</td>\n",
       "      <td>econonices Times</td>\n",
       "    </tr>\n",
       "    <tr>\n",
       "      <th>2</th>\n",
       "      <td>negative</td>\n",
       "      <td>The international electronic industry company ...</td>\n",
       "      <td>econonices Times</td>\n",
       "    </tr>\n",
       "    <tr>\n",
       "      <th>3</th>\n",
       "      <td>positive</td>\n",
       "      <td>With the new production plant the company woul...</td>\n",
       "      <td>econonices Times</td>\n",
       "    </tr>\n",
       "    <tr>\n",
       "      <th>4</th>\n",
       "      <td>positive</td>\n",
       "      <td>According to the company 's updated strategy f...</td>\n",
       "      <td>econonices Times</td>\n",
       "    </tr>\n",
       "    <tr>\n",
       "      <th>...</th>\n",
       "      <td>...</td>\n",
       "      <td>...</td>\n",
       "      <td>...</td>\n",
       "    </tr>\n",
       "    <tr>\n",
       "      <th>5</th>\n",
       "      <td>Nan</td>\n",
       "      <td>Representative imageNEW DELHI: The National In...</td>\n",
       "      <td>Times of India</td>\n",
       "    </tr>\n",
       "    <tr>\n",
       "      <th>6</th>\n",
       "      <td>Nan</td>\n",
       "      <td>I strongly condemn the recent terrorist attack...</td>\n",
       "      <td>Times of India</td>\n",
       "    </tr>\n",
       "    <tr>\n",
       "      <th>7</th>\n",
       "      <td>Nan</td>\n",
       "      <td>The state has 37,111 active cases, its case fa...</td>\n",
       "      <td>Times of India</td>\n",
       "    </tr>\n",
       "    <tr>\n",
       "      <th>8</th>\n",
       "      <td>Nan</td>\n",
       "      <td>NEW DELHI: The country that continues to shelt...</td>\n",
       "      <td>Times of India</td>\n",
       "    </tr>\n",
       "    <tr>\n",
       "      <th>9</th>\n",
       "      <td>Nan</td>\n",
       "      <td>Representative imageNEW DELHI: The NIA on Thur...</td>\n",
       "      <td>Times of India</td>\n",
       "    </tr>\n",
       "  </tbody>\n",
       "</table>\n",
       "<p>4876 rows × 3 columns</p>\n",
       "</div>"
      ],
      "text/plain": [
       "   impression_type                                               News  \\\n",
       "0          neutral  According to Gran , the company has no plans t...   \n",
       "1          neutral  Technopolis plans to develop in stages an area...   \n",
       "2         negative  The international electronic industry company ...   \n",
       "3         positive  With the new production plant the company woul...   \n",
       "4         positive  According to the company 's updated strategy f...   \n",
       "..             ...                                                ...   \n",
       "5              Nan  Representative imageNEW DELHI: The National In...   \n",
       "6              Nan  I strongly condemn the recent terrorist attack...   \n",
       "7              Nan  The state has 37,111 active cases, its case fa...   \n",
       "8              Nan  NEW DELHI: The country that continues to shelt...   \n",
       "9              Nan  Representative imageNEW DELHI: The NIA on Thur...   \n",
       "\n",
       "        news_channel  \n",
       "0   econonices Times  \n",
       "1   econonices Times  \n",
       "2   econonices Times  \n",
       "3   econonices Times  \n",
       "4   econonices Times  \n",
       "..               ...  \n",
       "5     Times of India  \n",
       "6     Times of India  \n",
       "7     Times of India  \n",
       "8     Times of India  \n",
       "9     Times of India  \n",
       "\n",
       "[4876 rows x 3 columns]"
      ]
     },
     "execution_count": 92,
     "metadata": {},
     "output_type": "execute_result"
    }
   ],
   "source": [
    "s=pd.DataFrame({\"impression_type\":\"Nan\",\"News\":Deccan_29_result,\"news_channel\":\"Deccan Chronicle\"},columns=[\"impression_type\",\"News\",\"news_channel\"])\n",
    "d=pd.DataFrame({\"impression_type\":\"Nan\",\"News\":Hindustan_29_result,\"news_channel\":\"Hindustan Times\"},columns=[\"impression_type\",\"News\",\"news_channel\"])\n",
    "k=pd.DataFrame({\"impression_type\":\"Nan\",\"News\":TOI_29_result,\"news_channel\":\"Times of India\"},columns=[\"impression_type\",\"News\",\"news_channel\"])\n",
    "a=pd.concat([a,s],axis=0)\n",
    "a=pd.concat([a,d],axis=0)\n",
    "a=pd.concat([a,k],axis=0)\n",
    "a"
   ]
  },
  {
   "cell_type": "code",
   "execution_count": 93,
   "metadata": {},
   "outputs": [
    {
     "data": {
      "text/plain": [
       "(4876, 3)"
      ]
     },
     "execution_count": 93,
     "metadata": {},
     "output_type": "execute_result"
    }
   ],
   "source": [
    "new_size=a.shape\n",
    "new_size"
   ]
  },
  {
   "cell_type": "markdown",
   "metadata": {},
   "source": [
    "Here we don't required feature selection or feature engineering we need to do direct data cleaning like remove all tokenized word and other unnessary sign like commas,dot, brakets all other."
   ]
  },
  {
   "cell_type": "code",
   "execution_count": 94,
   "metadata": {},
   "outputs": [],
   "source": [
    "from nltk.corpus import stopwords\n",
    "from nltk.tokenize import word_tokenize\n",
    "list_of_stopwords=stopwords.words(\"English\")"
   ]
  },
  {
   "cell_type": "code",
   "execution_count": 95,
   "metadata": {},
   "outputs": [],
   "source": [
    "other_removal_words=[\",\",\";\",\"%\",\".\",\"(\",\")\",\"[\",\"]\",\"%\",\"mn\",\"$\",\"``\",\"-\",\":\",\"SHE\",\"mln\",\"'s\",\"\",\n",
    "                    \"www.citycon.com\",\"...\",\"`\",\"Oyj\",\"'\",\"!\",\"|\",\"_\",\"SSH\",\"000\",\"EET\",\"GMO\",\"--\"]\n",
    "clean_news=[]#it is cleaned news article list\n",
    "for i in range(a.shape[0]):\n",
    "    sentences=a.News.values[i]\n",
    "    token_word=word_tokenize(sentences)\n",
    "    clean_news_sentences=\"\"\n",
    "    for i in token_word:\n",
    "        if i not in list_of_stopwords:\n",
    "            if i not in other_removal_words: \n",
    "                clean_news_sentences=clean_news_sentences+\" \"+i\n",
    "    #print(clean_news_sentences)\n",
    "    clean_news.append(clean_news_sentences)"
   ]
  },
  {
   "cell_type": "code",
   "execution_count": 96,
   "metadata": {},
   "outputs": [],
   "source": [
    "a[\"clean_news_article\"]=clean_news"
   ]
  },
  {
   "cell_type": "code",
   "execution_count": 97,
   "metadata": {},
   "outputs": [
    {
     "data": {
      "text/html": [
       "<div>\n",
       "<style scoped>\n",
       "    .dataframe tbody tr th:only-of-type {\n",
       "        vertical-align: middle;\n",
       "    }\n",
       "\n",
       "    .dataframe tbody tr th {\n",
       "        vertical-align: top;\n",
       "    }\n",
       "\n",
       "    .dataframe thead th {\n",
       "        text-align: right;\n",
       "    }\n",
       "</style>\n",
       "<table border=\"1\" class=\"dataframe\">\n",
       "  <thead>\n",
       "    <tr style=\"text-align: right;\">\n",
       "      <th></th>\n",
       "      <th>impression_type</th>\n",
       "      <th>News</th>\n",
       "      <th>news_channel</th>\n",
       "      <th>clean_news_article</th>\n",
       "    </tr>\n",
       "  </thead>\n",
       "  <tbody>\n",
       "    <tr>\n",
       "      <th>0</th>\n",
       "      <td>neutral</td>\n",
       "      <td>According to Gran , the company has no plans t...</td>\n",
       "      <td>econonices Times</td>\n",
       "      <td>According Gran company plans move production ...</td>\n",
       "    </tr>\n",
       "    <tr>\n",
       "      <th>1</th>\n",
       "      <td>neutral</td>\n",
       "      <td>Technopolis plans to develop in stages an area...</td>\n",
       "      <td>econonices Times</td>\n",
       "      <td>Technopolis plans develop stages area less 10...</td>\n",
       "    </tr>\n",
       "    <tr>\n",
       "      <th>2</th>\n",
       "      <td>negative</td>\n",
       "      <td>The international electronic industry company ...</td>\n",
       "      <td>econonices Times</td>\n",
       "      <td>The international electronic industry company...</td>\n",
       "    </tr>\n",
       "    <tr>\n",
       "      <th>3</th>\n",
       "      <td>positive</td>\n",
       "      <td>With the new production plant the company woul...</td>\n",
       "      <td>econonices Times</td>\n",
       "      <td>With new production plant company would incre...</td>\n",
       "    </tr>\n",
       "    <tr>\n",
       "      <th>4</th>\n",
       "      <td>positive</td>\n",
       "      <td>According to the company 's updated strategy f...</td>\n",
       "      <td>econonices Times</td>\n",
       "      <td>According company updated strategy years 2009...</td>\n",
       "    </tr>\n",
       "  </tbody>\n",
       "</table>\n",
       "</div>"
      ],
      "text/plain": [
       "  impression_type                                               News  \\\n",
       "0         neutral  According to Gran , the company has no plans t...   \n",
       "1         neutral  Technopolis plans to develop in stages an area...   \n",
       "2        negative  The international electronic industry company ...   \n",
       "3        positive  With the new production plant the company woul...   \n",
       "4        positive  According to the company 's updated strategy f...   \n",
       "\n",
       "       news_channel                                 clean_news_article  \n",
       "0  econonices Times   According Gran company plans move production ...  \n",
       "1  econonices Times   Technopolis plans develop stages area less 10...  \n",
       "2  econonices Times   The international electronic industry company...  \n",
       "3  econonices Times   With new production plant company would incre...  \n",
       "4  econonices Times   According company updated strategy years 2009...  "
      ]
     },
     "execution_count": 97,
     "metadata": {},
     "output_type": "execute_result"
    }
   ],
   "source": [
    "a.head()"
   ]
  },
  {
   "cell_type": "code",
   "execution_count": 98,
   "metadata": {},
   "outputs": [],
   "source": [
    "from sklearn.feature_extraction.text import CountVectorizer\n",
    "cv=CountVectorizer()"
   ]
  },
  {
   "cell_type": "code",
   "execution_count": 99,
   "metadata": {},
   "outputs": [],
   "source": [
    "df=cv.fit_transform(a[\"clean_news_article\"])# here we are doing countervectorizer"
   ]
  },
  {
   "cell_type": "code",
   "execution_count": 100,
   "metadata": {},
   "outputs": [
    {
     "data": {
      "text/plain": [
       "<4876x10580 sparse matrix of type '<class 'numpy.int64'>'\n",
       "\twith 64186 stored elements in Compressed Sparse Row format>"
      ]
     },
     "execution_count": 100,
     "metadata": {},
     "output_type": "execute_result"
    }
   ],
   "source": [
    "df"
   ]
  },
  {
   "cell_type": "markdown",
   "metadata": {},
   "source": [
    "spliting into traing and testing data"
   ]
  },
  {
   "cell_type": "code",
   "execution_count": 102,
   "metadata": {},
   "outputs": [],
   "source": [
    "from sklearn.model_selection import train_test_split\n",
    "X_train,X_test,Y_train,Y_test=train_test_split(df[:old_size[0]],a[\"impression_type\"][:old_size[0]],train_size=0.8)"
   ]
  },
  {
   "cell_type": "markdown",
   "metadata": {},
   "source": [
    "here we we use only \"economic time news\" to train our data and than we test its accuracy on test data of \"economic time news\"\n",
    "and than we use this model to predict sentimental analysis on for \"Deccan Chronicle\",\"Hindustan Times\",\"Times of India\""
   ]
  },
  {
   "cell_type": "markdown",
   "metadata": {},
   "source": [
    "here we apply naive_bayes algorithium as we alredy see in past in major project i got good accuracy by naive_bayes algorithim in classification problem in compare to Random forest and support vector machine"
   ]
  },
  {
   "cell_type": "code",
   "execution_count": 103,
   "metadata": {},
   "outputs": [],
   "source": [
    "from sklearn.naive_bayes import MultinomialNB\n",
    "naive=MultinomialNB()"
   ]
  },
  {
   "cell_type": "code",
   "execution_count": 104,
   "metadata": {},
   "outputs": [
    {
     "data": {
      "text/plain": [
       "MultinomialNB(alpha=1.0, class_prior=None, fit_prior=True)"
      ]
     },
     "execution_count": 104,
     "metadata": {},
     "output_type": "execute_result"
    }
   ],
   "source": [
    "naive.fit(X_train,Y_train)"
   ]
  },
  {
   "cell_type": "code",
   "execution_count": 105,
   "metadata": {},
   "outputs": [],
   "source": [
    "Y_predicted_value=naive.predict(X_test)"
   ]
  },
  {
   "cell_type": "code",
   "execution_count": 106,
   "metadata": {},
   "outputs": [],
   "source": [
    "from sklearn.metrics import accuracy_score"
   ]
  },
  {
   "cell_type": "code",
   "execution_count": 107,
   "metadata": {},
   "outputs": [
    {
     "data": {
      "text/plain": [
       "0.722680412371134"
      ]
     },
     "execution_count": 107,
     "metadata": {},
     "output_type": "execute_result"
    }
   ],
   "source": [
    "accuracy_score(Y_predicted_value,Y_test)"
   ]
  },
  {
   "cell_type": "markdown",
   "metadata": {},
   "source": [
    "so accuracy of this modal quite satisfactory not much good as we expect like more than 90 perscent"
   ]
  },
  {
   "cell_type": "markdown",
   "metadata": {},
   "source": [
    "now we apply this model to apply sentimental analysis on three news channel and conmpare positive and negative article presented by news channel per days"
   ]
  },
  {
   "cell_type": "code",
   "execution_count": 115,
   "metadata": {},
   "outputs": [
    {
     "name": "stdout",
     "output_type": "stream",
     "text": [
      "total news article by Deccan Chronicle per day-- 10   total positive article-- 2   total negative article-- 7\n",
      "total news article by Hindustan Times per day-- 10   total positive article-- 1   total negative article-- 5\n",
      "total news article by Times of India per day-- 10   total positive article-- 0   total negative article-- 7\n"
     ]
    }
   ],
   "source": [
    "Y_predicted_value=naive.predict(df[old_size[0]:old_size[0]+a[a[\"news_channel\"]==\"Deccan Chronicle\"].shape[0]])\n",
    "positive_count=0\n",
    "negative_count=0\n",
    "for i in range(len(Y_predicted_value)):\n",
    "    if Y_predicted_value[i]==\"positive\":\n",
    "        positive_count+=1\n",
    "    elif  Y_predicted_value[i]==\"negative\":\n",
    "        negative_count+=1\n",
    "print(\"total news article by Deccan Chronicle per day--\",len(Y_predicted_value),\"  total positive article--\",positive_count,\"  total negative article--\",negative_count)\n",
    "\n",
    "Y_predicted_value=naive.predict(df[old_size[0]+10:old_size[0]+10+a[a[\"news_channel\"]==\"Hindustan Times\"].shape[0]])\n",
    "positive_count=0\n",
    "negative_count=0\n",
    "for i in range(len(Y_predicted_value)):\n",
    "    if Y_predicted_value[i]==\"positive\":\n",
    "        positive_count+=1\n",
    "    elif  Y_predicted_value[i]==\"negative\":\n",
    "        negative_count+=1\n",
    "print(\"total news article by Hindustan Times per day--\",len(Y_predicted_value),\"  total positive article--\",positive_count,\"  total negative article--\",negative_count)\n",
    "\n",
    "\n",
    "Y_predicted_value=naive.predict(df[old_size[0]+20:old_size[0]+20+a[a[\"news_channel\"]==\"Times of India\"].shape[0]])\n",
    "positive_count=0\n",
    "negative_count=0\n",
    "for i in range(len(Y_predicted_value)):\n",
    "    if Y_predicted_value[i]==\"positive\":\n",
    "        positive_count+=1\n",
    "    elif  Y_predicted_value[i]==\"negative\":\n",
    "        negative_count+=1\n",
    "print(\"total news article by Times of India per day--\",len(Y_predicted_value),\"  total positive article--\",positive_count,\"  total negative article--\",negative_count)\n"
   ]
  },
  {
   "cell_type": "markdown",
   "metadata": {},
   "source": [
    "so we get that \"Deccan Chronicle\" shows 2 positive and 7 negative and 1 neutral article per day "
   ]
  },
  {
   "cell_type": "markdown",
   "metadata": {},
   "source": [
    "similarly Hindustan Times  shows 1 positive and 5 negative and 4 neutral article per day"
   ]
  },
  {
   "cell_type": "markdown",
   "metadata": {},
   "source": [
    "similarly Times of India shows Zero positive and 7 negative and 3 neutral article per day"
   ]
  },
  {
   "cell_type": "markdown",
   "metadata": {},
   "source": [
    "Auther : RISHABH TRIPATHI"
   ]
  },
  {
   "cell_type": "code",
   "execution_count": null,
   "metadata": {},
   "outputs": [],
   "source": []
  }
 ],
 "metadata": {
  "kernelspec": {
   "display_name": "Python 3",
   "language": "python",
   "name": "python3"
  },
  "language_info": {
   "codemirror_mode": {
    "name": "ipython",
    "version": 3
   },
   "file_extension": ".py",
   "mimetype": "text/x-python",
   "name": "python",
   "nbconvert_exporter": "python",
   "pygments_lexer": "ipython3",
   "version": "3.7.6"
  }
 },
 "nbformat": 4,
 "nbformat_minor": 4
}
